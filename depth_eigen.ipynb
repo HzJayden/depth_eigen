{
 "cells": [
  {
   "cell_type": "markdown",
   "metadata": {},
   "source": [
    "### About\n",
    "- This notebook is an implementation of the following papers.\n",
    "    - [Depth Map Prediction from a Single Image using a Multi-Scale Deep Network](https://arxiv.org/pdf/1406.2283.pdf) by Eigen et al., NIPS 2014\n",
    "- Dataset\n",
    "    - [NYU Depth Dataset V2](https://cs.nyu.edu/~silberman/datasets/nyu_depth_v2.html)"
   ]
  },
  {
   "cell_type": "code",
   "execution_count": 182,
   "metadata": {},
   "outputs": [],
   "source": [
    "from __future__ import print_function, division\n",
    "import torch\n",
    "import torch.nn as nn\n",
    "import torchvision\n",
    "from torchvision import transforms, utils\n",
    "from skimage import transform\n",
    "from torch.utils.data import Dataset, DataLoader\n",
    "import numpy as np\n",
    "import matplotlib.pyplot as plt\n",
    "from IPython.core.pylabtools import figsize\n",
    "import time\n",
    "import os\n",
    "import re\n",
    "from imageio import imread\n",
    "from pathlib import Path\n",
    "\n",
    "%matplotlib inline"
   ]
  },
  {
   "cell_type": "markdown",
   "metadata": {},
   "source": [
    "### Device configuration"
   ]
  },
  {
   "cell_type": "code",
   "execution_count": 183,
   "metadata": {},
   "outputs": [
    {
     "data": {
      "text/plain": [
       "device(type='cuda')"
      ]
     },
     "execution_count": 183,
     "metadata": {},
     "output_type": "execute_result"
    }
   ],
   "source": [
    "device = torch.device('cuda' if torch.cuda.is_available() else 'cpu')\n",
    "device"
   ]
  },
  {
   "cell_type": "markdown",
   "metadata": {},
   "source": [
    "### Hyper parameters"
   ]
  },
  {
   "cell_type": "code",
   "execution_count": 184,
   "metadata": {},
   "outputs": [],
   "source": [
    "num_epochs = 20 # not specified in paper"
   ]
  },
  {
   "cell_type": "markdown",
   "metadata": {},
   "source": [
    "### Dataset loader"
   ]
  },
  {
   "cell_type": "code",
   "execution_count": 185,
   "metadata": {},
   "outputs": [],
   "source": [
    "data_dir_train = Path('./data/train')\n",
    "data_dir_valid = Path('./data/valid')\n",
    "\n",
    "class DepthEigenDataset(Dataset):\n",
    "\n",
    "    # https://stackoverflow.com/questions/7368739/numpy-and-16-bit-pgm\n",
    "    @staticmethod\n",
    "    def read_pgm(filename, byteorder='>'):\n",
    "        \"\"\"\n",
    "        Return image data from a raw PGM file as numpy array.\n",
    "        Format specification: http://netpbm.sourceforge.net/doc/pgm.html\n",
    "        \"\"\"\n",
    "        with open(filename, 'rb') as f:\n",
    "            buffer = f.read()\n",
    "        try:\n",
    "            header, width, height, maxval = re.search(\n",
    "                b\"(^P5\\s(?:\\s*#.*[\\r\\n])*\"\n",
    "                b\"(\\d+)\\s(?:\\s*#.*[\\r\\n])*\"\n",
    "                b\"(\\d+)\\s(?:\\s*#.*[\\r\\n])*\"\n",
    "                b\"(\\d+)\\s(?:\\s*#.*[\\r\\n]\\s)*)\", buffer).groups()\n",
    "        except AttributeError:\n",
    "            raise ValueError(\"Not a raw PGM file: '%s'\" % filename)\n",
    "        return np.frombuffer(buffer,\n",
    "                                dtype='u1' if int(maxval) < 256 else byteorder+'u2',\n",
    "                                count=int(width)*int(height),\n",
    "                                offset=len(header)\n",
    "                                ).reshape((int(height), int(width)))\n",
    "\n",
    "    def __init__(self, rgb_dir, depth_dir, transform=None):\n",
    "        super(DepthEigenDataset, self).__init__()\n",
    "        \n",
    "        self.rgb_dir = rgb_dir\n",
    "        self.depth_dir = depth_dir\n",
    "        self.transform = transform\n",
    "        \n",
    "    def __len__(self):\n",
    "        return len(os.listdir(self.rgb_dir))\n",
    "    \n",
    "    def __getitem__(self, idx):\n",
    "         \n",
    "        # read as ndarray\n",
    "        rgb_sample = np.array(imread(self.rgb_dir / '{}.ppm'.format(idx)))\n",
    "        depth_sample = self.read_pgm(self.depth_dir / '{}.pgm'.format(idx), byteorder='<')\n",
    "        \n",
    "        # resize\n",
    "        rgb_sample = transform.resize(rgb_sample, (304, 228))\n",
    "        depth_sample = transform.resize(depth_sample, (74, 55))\n",
    "        \n",
    "        # transform\n",
    "        if self.transform:\n",
    "            rgb_sample = self.transform(rgb_sample)\n",
    "            depth_sample = self.transform(depth_sample)\n",
    "        \n",
    "        sample = {'rgb':rgb_sample, 'depth': depth_sample}\n",
    "        \n",
    "        return sample\n",
    "\n",
    "'''\n",
    "trans = transforms.Compose([\n",
    "    transforms.Resize(())\n",
    "])\n",
    "'''\n",
    "\n",
    "dataset_train = DepthEigenDataset(data_dir_train / 'rgb', data_dir_train / 'depth')\n",
    "dataloader_train = DataLoader(dataset_train, batch_size=32, shuffle=True)\n",
    "\n",
    "dataset_valid = DepthEigenDataset(data_dir_valid / 'rgb', data_dir_valid / 'depth')\n",
    "dataloader_valid = DataLoader(dataset_valid, batch_size=32, shuffle=True)"
   ]
  },
  {
   "cell_type": "markdown",
   "metadata": {},
   "source": [
    "### Network definition"
   ]
  },
  {
   "cell_type": "code",
   "execution_count": 186,
   "metadata": {},
   "outputs": [],
   "source": [
    "class GlobalCoarseNet(nn.Module):\n",
    "    \n",
    "    def __init__(self):\n",
    "        super(GlobalCoarseNet, self).__init__()\n",
    "        \n",
    "        self.coarse1 = nn.Sequential(nn.Conv2d(in_channels=3, out_channels=96, kernel_size=11, stride=4), \n",
    "                                     nn.ReLU(),\n",
    "                                     nn.MaxPool2d(kernel_size=2))\n",
    "        self.coarse2 = nn.Sequential(nn.Conv2d(in_channels=96, out_channels=256, kernel_size=5, padding=2), \n",
    "                                     nn.ReLU(),\n",
    "                                     nn.MaxPool2d(kernel_size=2))\n",
    "        \n",
    "        self.coarse3 = nn.Sequential(nn.Conv2d(in_channels=256, out_channels=384, kernel_size=3, padding=1), \n",
    "                                     nn.ReLU())\n",
    "        \n",
    "        self.coarse4 = nn.Sequential(nn.Conv2d(in_channels=384, out_channels=384, kernel_size=3, padding=1), \n",
    "                                     nn.ReLU())\n",
    "        \n",
    "        self.coarse5 = nn.Sequential(nn.Conv2d(in_channels=384, out_channels=256, kernel_size=3, stride=2), \n",
    "                                     nn.ReLU())\n",
    "        \n",
    "        self.coarse6 = nn.Sequential(nn.Linear(in_features=256 * 8 * 6, out_features=4096), \n",
    "                                     nn.ReLU(), nn.Dropout(0.5))\n",
    "        \n",
    "        self.coarse7 = nn.Linear(in_features=4096, out_features=74 * 55)\n",
    "        \n",
    "    \n",
    "    def forward(self, x):\n",
    "        x = self.coarse1(x)\n",
    "        x = self.coarse2(x)\n",
    "        x = self.coarse3(x)\n",
    "        x = self.coarse4(x)\n",
    "        x = self.coarse5(x)\n",
    "        x = x.reshape(x.size(0), -1)\n",
    "        x = self.coarse6(x)\n",
    "        x = self.coarse7(x)\n",
    "        x = x.reshape(x.size(0), 74, 55)\n",
    "        return x\n",
    "\n",
    "class LocalFineNet(nn.Module):\n",
    "    \n",
    "    def __init__(self):\n",
    "        super(LocalFineNet, self).__init__()\n",
    "        \n",
    "        self.fine1 = nn.Sequential(nn.Conv2d(in_channels=3, out_channels=63, kernel_size=9, stride=2),\n",
    "                                   nn.ReLU(),\n",
    "                                   nn.MaxPool2d(kernel_size=2))\n",
    "        \n",
    "        self.fine2 = nn.Sequential(nn.Conv2d(in_channels=64, out_channels=64, kernel_size=5, padding=2), \n",
    "                                   nn.ReLU())\n",
    "        \n",
    "        self.fine3 = nn.Conv2d(in_channels=64, out_channels=1, kernel_size=5, padding=2)\n",
    "    \n",
    "    def forward(self, x, global_output_batch):\n",
    "        x = self.fine1(x)\n",
    "        x = torch.cat((x, global_output_batch), dim=1)\n",
    "        x = self.fine2(x)\n",
    "        x = self.fine3(x)\n",
    "        \n",
    "        return x\n",
    "\n",
    "# initialize\n",
    "global_model = GlobalCoarseNet().to(device)\n",
    "local_model = LocalFineNet().to(device)"
   ]
  },
  {
   "cell_type": "markdown",
   "metadata": {},
   "source": [
    "### Loss and optimizer\n",
    "- Reference\n",
    "    - [Per-parameter options](https://pytorch.org/docs/stable/optim.html)"
   ]
  },
  {
   "cell_type": "code",
   "execution_count": 187,
   "metadata": {},
   "outputs": [],
   "source": [
    "class ScaleInvariantLoss(nn.Module):\n",
    "    def __init__(self):\n",
    "        super(ScaleInvariantLoss, self).__init__()\n",
    "\n",
    "    def forward(self, pred, target):\n",
    "        \n",
    "        dist = pred - target\n",
    "        \n",
    "        # the lambda parameter is set to 0.5\n",
    "        loss = torch.mean(dist ** 2) - 0.5 / ((torch.numel(dist)) ** 2) * (torch.sum(dist) ** 2) \n",
    "        \n",
    "        return loss\n",
    "\n",
    "# loss\n",
    "global_criterion = ScaleInvariantLoss()\n",
    "local_criterion = ScaleInvariantLoss()\n",
    "\n",
    "# optimizer\n",
    "r=1\n",
    "global_optimizer = torch.optim.SGD([{'params': global_model.coarse6.parameters(), 'lr': 0.1*r},\n",
    "                                    {'params': global_model.coarse7.parameters(), 'lr': 0.1*r}], \n",
    "                                   lr=0.001*r, momentum=0.9)\n",
    "\n",
    "local_optimizer = torch.optim.SGD([{'params': local_model.fine2.parameters(), 'lr': 0.01*r}], \n",
    "                                  lr=0.001*r, momentum=0.9)\n",
    "\n",
    "# data parallel\n",
    "global_model = nn.DataParallel(global_model)\n",
    "local_model = nn.DataParallel(local_model)"
   ]
  },
  {
   "cell_type": "markdown",
   "metadata": {},
   "source": [
    "### Plot gradient flow and losses\n",
    "- Reference\n",
    "    - [plot function](https://discuss.pytorch.org/t/check-gradient-flow-in-network/15063/7)\n",
    "    - [get gradient of each layer](https://discuss.pytorch.org/t/how-to-calculate-gradient-for-each-layer/1595/4)"
   ]
  },
  {
   "cell_type": "code",
   "execution_count": 188,
   "metadata": {},
   "outputs": [],
   "source": [
    "def plot_grad_flow(layers, avg_grads):        \n",
    "    \n",
    "    for avg_grad in avg_grads:\n",
    "        plt.plot(avg_grad, alpha=0.3, color=\"b\")\n",
    "        \n",
    "    plt.hlines(0, 0, len(layers)+1, linewidth=1, color=\"k\" )\n",
    "    plt.xticks(range(0,len(layers), 1), layers, rotation=\"vertical\")\n",
    "    plt.xlim(xmin=0, xmax=len(layers))\n",
    "    plt.xlabel(\"Layers\")\n",
    "    plt.ylabel(\"average gradient\")\n",
    "    plt.title(\"Gradient flow\")\n",
    "    plt.grid(True)\n",
    "\n",
    "def plot_losses(losses):\n",
    "    plt.plot(losses, alpha=0.3, color=\"b\")\n",
    "    plt.xlabel(\"Iterations\")\n",
    "    plt.ylabel(\"Losses\")\n",
    "    plt.title(\"Losses\")\n",
    "    plt.grid(True)\n",
    "    "
   ]
  },
  {
   "cell_type": "markdown",
   "metadata": {},
   "source": [
    "### Train the global coarse model"
   ]
  },
  {
   "cell_type": "code",
   "execution_count": 189,
   "metadata": {},
   "outputs": [
    {
     "name": "stdout",
     "output_type": "stream",
     "text": [
      "> "
     ]
    },
    {
     "name": "stderr",
     "output_type": "stream",
     "text": [
      "/home/dushu/anaconda3/lib/python3.7/site-packages/skimage/transform/_warps.py:105: UserWarning: The default mode, 'constant', will be changed to 'reflect' in skimage 0.15.\n",
      "  warn(\"The default mode, 'constant', will be changed to 'reflect' in \"\n",
      "/home/dushu/anaconda3/lib/python3.7/site-packages/skimage/transform/_warps.py:110: UserWarning: Anti-aliasing will be enabled by default in skimage 0.15 to avoid aliasing artifacts when down-sampling images.\n",
      "  warn(\"Anti-aliasing will be enabled by default in skimage 0.15 to \"\n"
     ]
    },
    {
     "name": "stdout",
     "output_type": "stream",
     "text": [
      "> > > > > > > > > > > > > > > > > > > Time used:  150.11658191680908  per epoch used:  7.505829095840454\n"
     ]
    },
    {
     "data": {
      "image/png": "[encoded data removed]",
      "text/plain": [
       "<Figure size 900x288 with 2 Axes>"
      ]
     },
     "metadata": {
      "needs_background": "light"
     },
     "output_type": "display_data"
    }
   ],
   "source": [
    "figsize(12.5, 4)\n",
    "\n",
    "losses = []\n",
    "avg_grads = []\n",
    "\n",
    "start = time.time()\n",
    "for epoch in range(num_epochs):\n",
    "    \n",
    "    print('>', end=' ')\n",
    "    \n",
    "    for i, samples in enumerate(dataloader_train):\n",
    "        \n",
    "        rgbs = samples['rgb'].view(-1, 3, 304, 228).float().to(device)\n",
    "        depths = samples['depth'].float().to(device)\n",
    "\n",
    "        # forward pass\n",
    "        output = global_model(rgbs)\n",
    "        loss = global_criterion(output, depths)\n",
    "        losses.append(loss.item())\n",
    "\n",
    "        # backward pass\n",
    "        global_model.zero_grad()\n",
    "        loss.backward()\n",
    "\n",
    "        # avarage gradient\n",
    "        avg_grad = []\n",
    "        for n, p in global_model.named_parameters():\n",
    "            if 'bias' in n:\n",
    "                continue\n",
    "            avg_grad.append(p.grad.abs().mean())\n",
    "        avg_grads.append(avg_grad)\n",
    "\n",
    "        # optimization\n",
    "        global_optimizer.step()\n",
    "\n",
    "        #print('loss at {} is {}'.format(i + 1, loss))\n",
    "\n",
    "elapse = time.time() - start \n",
    "print('Time used: ', elapse, ' per epoch used: ', elapse / num_epochs)\n",
    "\n",
    "plt.subplot(121)\n",
    "layers = [k for k in global_model.state_dict().keys() if 'bias' not in k]\n",
    "plot_grad_flow(layers, avg_grads)\n",
    "\n",
    "plt.subplot(122)\n",
    "plot_losses(losses)"
   ]
  },
  {
   "cell_type": "markdown",
   "metadata": {},
   "source": [
    "### Train the local fine model"
   ]
  },
  {
   "cell_type": "code",
   "execution_count": null,
   "metadata": {},
   "outputs": [
    {
     "name": "stdout",
     "output_type": "stream",
     "text": [
      "> "
     ]
    },
    {
     "name": "stderr",
     "output_type": "stream",
     "text": [
      "/home/dushu/anaconda3/lib/python3.7/site-packages/skimage/transform/_warps.py:105: UserWarning: The default mode, 'constant', will be changed to 'reflect' in skimage 0.15.\n",
      "  warn(\"The default mode, 'constant', will be changed to 'reflect' in \"\n",
      "/home/dushu/anaconda3/lib/python3.7/site-packages/skimage/transform/_warps.py:110: UserWarning: Anti-aliasing will be enabled by default in skimage 0.15 to avoid aliasing artifacts when down-sampling images.\n",
      "  warn(\"Anti-aliasing will be enabled by default in skimage 0.15 to \"\n"
     ]
    },
    {
     "name": "stdout",
     "output_type": "stream",
     "text": [
      "> "
     ]
    }
   ],
   "source": [
    "figsize(12.5, 4)\n",
    "\n",
    "losses = []\n",
    "avg_grads = []\n",
    "\n",
    "start = time.time()\n",
    "for epoch in range(num_epochs):\n",
    "    \n",
    "    print('>', end=' ')\n",
    "    \n",
    "    for i, samples in enumerate(dataloader_train):\n",
    "        \n",
    "        rgbs = samples['rgb'].view(-1, 3, 304, 228).float().to(device)\n",
    "        depths = samples['depth'].float().to(device)\n",
    "        \n",
    "        # results from global coarse network\n",
    "        global_model.eval()\n",
    "        with torch.no_grad():\n",
    "            global_output = global_model(rgbs).unsqueeze(1)\n",
    "\n",
    "        # forward pass\n",
    "        output = local_model(rgbs, global_output)\n",
    "        loss = local_criterion(output, depths)\n",
    "        losses.append(loss.item())\n",
    "\n",
    "        # backward pass\n",
    "        local_model.zero_grad()\n",
    "        loss.backward()\n",
    "\n",
    "        # avarage gradient\n",
    "        avg_grad = []\n",
    "        for n, p in local_model.named_parameters():\n",
    "            if 'bias' in n:\n",
    "                continue\n",
    "            avg_grad.append(p.grad.abs().mean())\n",
    "        avg_grads.append(avg_grad)\n",
    "\n",
    "        # optimization\n",
    "        local_optimizer.step()\n",
    "\n",
    "        #print('loss at {} is {}'.format(i + 1, loss))\n",
    "\n",
    "elapse = time.time() - start \n",
    "print('Time used: ', elapse, ' per epoch used: ', elapse / num_epochs)\n",
    "\n",
    "plt.subplot(121)\n",
    "layers = [k for k in local_model.state_dict().keys() if 'bias' not in k]\n",
    "plot_grad_flow(layers, avg_grads)\n",
    "\n",
    "plt.subplot(122)\n",
    "plot_losses(losses)"
   ]
  }
 ],
 "metadata": {
  "kernelspec": {
   "display_name": "=base",
   "language": "python",
   "name": "base"
  },
  "language_info": {
   "codemirror_mode": {
    "name": "ipython",
    "version": 3
   },
   "file_extension": ".py",
   "mimetype": "text/x-python",
   "name": "python",
   "nbconvert_exporter": "python",
   "pygments_lexer": "ipython3",
   "version": "3.7.1"
  }
 },
 "nbformat": 4,
 "nbformat_minor": 2
}
