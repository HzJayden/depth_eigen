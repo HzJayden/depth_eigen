{
 "cells": [
  {
   "cell_type": "markdown",
   "metadata": {},
   "source": [
    "### About\n",
    "- This notebook is an implementation of the following papers.\n",
    "    - [Depth Map Prediction from a Single Image using a Multi-Scale Deep Network](https://arxiv.org/pdf/1406.2283.pdf) by Eigen et al., NIPS 2014\n",
    "- Dataset\n",
    "    - [NYU Depth Dataset V2](https://cs.nyu.edu/~silberman/datasets/nyu_depth_v2.html)"
   ]
  },
  {
   "cell_type": "code",
   "execution_count": 196,
   "metadata": {},
   "outputs": [],
   "source": [
    "from __future__ import print_function, division\n",
    "import torch\n",
    "import torch.nn as nn\n",
    "import torchvision\n",
    "from torchvision import transforms, utils\n",
    "from skimage import transform\n",
    "from torch.utils.data import Dataset, DataLoader\n",
    "import numpy as np\n",
    "import matplotlib.pyplot as plt\n",
    "from IPython.core.pylabtools import figsize\n",
    "import time\n",
    "import os\n",
    "import re\n",
    "import random\n",
    "from imageio import imread\n",
    "from pathlib import Path\n",
    "from PIL import Image\n",
    "\n",
    "import warnings\n",
    "warnings.filterwarnings('ignore')\n",
    "\n",
    "%matplotlib inline"
   ]
  },
  {
   "cell_type": "markdown",
   "metadata": {},
   "source": [
    "### Device configuration"
   ]
  },
  {
   "cell_type": "code",
   "execution_count": 197,
   "metadata": {},
   "outputs": [
    {
     "data": {
      "text/plain": [
       "device(type='cuda')"
      ]
     },
     "execution_count": 197,
     "metadata": {},
     "output_type": "execute_result"
    }
   ],
   "source": [
    "device = torch.device('cuda' if torch.cuda.is_available() else 'cpu')\n",
    "device"
   ]
  },
  {
   "cell_type": "markdown",
   "metadata": {},
   "source": [
    "### Hyper parameters"
   ]
  },
  {
   "cell_type": "code",
   "execution_count": 198,
   "metadata": {},
   "outputs": [],
   "source": [
    "num_epochs = 10 # not specified in paper"
   ]
  },
  {
   "cell_type": "markdown",
   "metadata": {},
   "source": [
    "### Dataset loader"
   ]
  },
  {
   "cell_type": "code",
   "execution_count": 199,
   "metadata": {},
   "outputs": [
    {
     "name": "stdout",
     "output_type": "stream",
     "text": [
      "343595 97709\n"
     ]
    }
   ],
   "source": [
    "data_dir_train = Path('../../../data/train')\n",
    "data_dir_valid = Path('../../../data/valid')\n",
    "\n",
    "class DepthEigenDataset(Dataset):\n",
    "\n",
    "    def __init__(self, rgb_dir, depth_dir, transform=None):\n",
    "        super(DepthEigenDataset, self).__init__()\n",
    "        \n",
    "        self.rgb_dir = rgb_dir\n",
    "        self.depth_dir = depth_dir\n",
    "        self.transform = transform\n",
    "        \n",
    "    def __len__(self):\n",
    "        return len(os.listdir(self.rgb_dir))\n",
    "    \n",
    "    def __getitem__(self, idx):\n",
    "         \n",
    "        # read as PIL images\n",
    "        rgb_sample = Image.open(self.rgb_dir / '{}.ppm'.format(idx))\n",
    "        depth_sample = Image.open(self.depth_dir / '{}.pgm'.format(idx))\n",
    "        \n",
    "        # transform\n",
    "        seed = random.randint(0, 2 ** 32)\n",
    "        if self.transform:\n",
    "            random.seed(seed)\n",
    "            rgb_sample = self.transform(rgb_sample)\n",
    "            \n",
    "            random.seed(seed)\n",
    "            depth_sample = self.transform(depth_sample)\n",
    "        \n",
    "        # resize depth image\n",
    "        depth_sample = transforms.Resize((74, 55))(depth_sample)\n",
    "        \n",
    "        # convert to torch tensor\n",
    "        rgb_sample = transforms.ToTensor()(rgb_sample)\n",
    "        depth_sample = transforms.ToTensor()(depth_sample).view(74, 55)\n",
    "        \n",
    "        sample = {'rgb':rgb_sample, 'depth': depth_sample}\n",
    "        \n",
    "        return sample\n",
    "\n",
    "trans_train = transforms.Compose([\n",
    "    transforms.RandomRotation(5),\n",
    "    transforms.RandomCrop((304, 228)),\n",
    "    transforms.RandomHorizontalFlip(),\n",
    "])\n",
    "\n",
    "trans_test = transforms.Compose([\n",
    "    transforms.Resize((304, 228)),\n",
    "])\n",
    "    \n",
    "dataset_train = DepthEigenDataset(data_dir_train / 'rgb', data_dir_train / 'depth', transform=trans_train)\n",
    "dataloader_train = DataLoader(dataset_train, batch_size=32, shuffle=True)\n",
    "\n",
    "dataset_valid = DepthEigenDataset(data_dir_valid / 'rgb', data_dir_valid / 'depth', transform=trans_test)\n",
    "dataloader_valid = DataLoader(dataset_valid, batch_size=32, shuffle=True)\n",
    "\n",
    "datalen_train = len(dataset_train)\n",
    "datalen_valid = len(dataset_valid)\n",
    "\n",
    "print(datalen_train, datalen_valid)"
   ]
  },
  {
   "cell_type": "markdown",
   "metadata": {},
   "source": [
    "### Network definition"
   ]
  },
  {
   "cell_type": "code",
   "execution_count": 200,
   "metadata": {},
   "outputs": [],
   "source": [
    "class GlobalCoarseNet(nn.Module):\n",
    "    \n",
    "    def __init__(self):\n",
    "        super(GlobalCoarseNet, self).__init__()\n",
    "        \n",
    "        self.coarse1 = nn.Sequential(nn.Conv2d(in_channels=3, out_channels=96, kernel_size=11, stride=4), \n",
    "                                     nn.ReLU(),\n",
    "                                     nn.MaxPool2d(kernel_size=2))\n",
    "        self.coarse2 = nn.Sequential(nn.Conv2d(in_channels=96, out_channels=256, kernel_size=5, padding=2), \n",
    "                                     nn.ReLU(),\n",
    "                                     nn.MaxPool2d(kernel_size=2))\n",
    "        \n",
    "        self.coarse3 = nn.Sequential(nn.Conv2d(in_channels=256, out_channels=384, kernel_size=3, padding=1), \n",
    "                                     nn.ReLU())\n",
    "        \n",
    "        self.coarse4 = nn.Sequential(nn.Conv2d(in_channels=384, out_channels=384, kernel_size=3, padding=1), \n",
    "                                     nn.ReLU())\n",
    "        \n",
    "        self.coarse5 = nn.Sequential(nn.Conv2d(in_channels=384, out_channels=256, kernel_size=3, stride=2), \n",
    "                                     nn.ReLU())\n",
    "        \n",
    "        self.coarse6 = nn.Sequential(nn.Linear(in_features=256 * 8 * 6, out_features=4096), \n",
    "                                     nn.ReLU(), nn.Dropout(0.5))\n",
    "        \n",
    "        self.coarse7 = nn.Linear(in_features=4096, out_features=74 * 55)\n",
    "        \n",
    "    \n",
    "    def forward(self, x):\n",
    "        x = self.coarse1(x)\n",
    "        x = self.coarse2(x)\n",
    "        x = self.coarse3(x)\n",
    "        x = self.coarse4(x)\n",
    "        x = self.coarse5(x)\n",
    "        x = x.reshape(x.size(0), -1)\n",
    "        x = self.coarse6(x)\n",
    "        x = self.coarse7(x)\n",
    "        x = x.reshape(x.size(0), 74, 55)\n",
    "        return x\n",
    "\n",
    "class LocalFineNet(nn.Module):\n",
    "    \n",
    "    def __init__(self):\n",
    "        super(LocalFineNet, self).__init__()\n",
    "        \n",
    "        self.fine1 = nn.Sequential(nn.Conv2d(in_channels=3, out_channels=63, kernel_size=9, stride=2),\n",
    "                                   nn.ReLU(),\n",
    "                                   nn.MaxPool2d(kernel_size=2))\n",
    "        \n",
    "        self.fine2 = nn.Sequential(nn.Conv2d(in_channels=64, out_channels=64, kernel_size=5, padding=2), \n",
    "                                   nn.ReLU())\n",
    "        \n",
    "        self.fine3 = nn.Conv2d(in_channels=64, out_channels=1, kernel_size=5, padding=2)\n",
    "    \n",
    "    def forward(self, x, global_output_batch):\n",
    "        x = self.fine1(x)\n",
    "        x = torch.cat((x, global_output_batch), dim=1)\n",
    "        x = self.fine2(x)\n",
    "        x = self.fine3(x)\n",
    "        \n",
    "        return x\n",
    "\n",
    "# initialize\n",
    "global_model = GlobalCoarseNet().to(device)\n",
    "local_model = LocalFineNet().to(device)"
   ]
  },
  {
   "cell_type": "markdown",
   "metadata": {},
   "source": [
    "### Loss and optimizer\n",
    "- Reference\n",
    "    - [Per-parameter options](https://pytorch.org/docs/stable/optim.html)"
   ]
  },
  {
   "cell_type": "code",
   "execution_count": 201,
   "metadata": {},
   "outputs": [],
   "source": [
    "class ScaleInvariantLoss(nn.Module):\n",
    "    def __init__(self):\n",
    "        super(ScaleInvariantLoss, self).__init__()\n",
    "\n",
    "    def forward(self, pred, target):\n",
    "        \n",
    "        # mask out 0 values for log function\n",
    "        mask = (target == 0)\n",
    "        dist = pred[~mask] - torch.log(target[~mask])\n",
    "        \n",
    "        # the lambda parameter is set to 0.5\n",
    "        loss = torch.mean(dist ** 2) - 0.5 / ((torch.numel(dist)) ** 2) * (torch.sum(dist) ** 2) \n",
    "        \n",
    "        return loss\n",
    "\n",
    "# loss\n",
    "global_criterion = ScaleInvariantLoss()\n",
    "local_criterion = ScaleInvariantLoss()\n",
    "\n",
    "# optimizer\n",
    "r=1\n",
    "global_optimizer = torch.optim.SGD([{'params': global_model.coarse6.parameters(), 'lr': 0.1*r},\n",
    "                                    {'params': global_model.coarse7.parameters(), 'lr': 0.1*r}], \n",
    "                                   lr=0.001*r, momentum=0.9)\n",
    "\n",
    "local_optimizer = torch.optim.SGD([{'params': local_model.fine2.parameters(), 'lr': 0.01*r}], \n",
    "                                  lr=0.001*r, momentum=0.9)\n",
    "\n",
    "# data parallel\n",
    "global_model = nn.DataParallel(global_model)\n",
    "local_model = nn.DataParallel(local_model)"
   ]
  },
  {
   "cell_type": "markdown",
   "metadata": {},
   "source": [
    "### Plot gradient flow and losses\n",
    "- Reference\n",
    "    - [plot function](https://discuss.pytorch.org/t/check-gradient-flow-in-network/15063/7)\n",
    "    - [get gradient of each layer](https://discuss.pytorch.org/t/how-to-calculate-gradient-for-each-layer/1595/4)"
   ]
  },
  {
   "cell_type": "code",
   "execution_count": 202,
   "metadata": {},
   "outputs": [],
   "source": [
    "def plot_grad_flow(layers, avg_grads):        \n",
    "    \n",
    "    for avg_grad in avg_grads:\n",
    "        plt.plot(avg_grad, alpha=0.3, color=\"b\")\n",
    "        \n",
    "    plt.hlines(0, 0, len(layers)+1, linewidth=1, color=\"k\" )\n",
    "    plt.xticks(range(0,len(layers), 1), layers, rotation=\"vertical\")\n",
    "    plt.xlim(xmin=0, xmax=len(layers))\n",
    "    plt.xlabel(\"Layers\")\n",
    "    plt.ylabel(\"average gradient\")\n",
    "    plt.title(\"Gradient flow\")\n",
    "    plt.grid(True)\n",
    "\n",
    "def plot_losses(train_losses, valid_losses):\n",
    "    plt.plot(train_losses, label='train losses')\n",
    "    plt.plot(valid_losses, label='valid losses')\n",
    "    \n",
    "    plt.xlabel(\"Iterations\")\n",
    "    plt.ylabel(\"Losses\")\n",
    "    \n",
    "    plt.legend()\n",
    "    plt.title(\"Losses\")\n",
    "    plt.grid(True)"
   ]
  },
  {
   "cell_type": "markdown",
   "metadata": {},
   "source": [
    "### Train the global coarse model"
   ]
  },
  {
   "cell_type": "code",
   "execution_count": null,
   "metadata": {
    "scrolled": true
   },
   "outputs": [
    {
     "name": "stdout",
     "output_type": "stream",
     "text": [
      "> "
     ]
    }
   ],
   "source": [
    "figsize(12.5, 4)\n",
    "\n",
    "train_losses = []\n",
    "valid_losses = []\n",
    "\n",
    "avg_grads = []\n",
    "start = time.time()\n",
    "for epoch in range(num_epochs):\n",
    "    \n",
    "    print('>', end=' ')\n",
    "    \n",
    "    # train\n",
    "    train_loss = 0\n",
    "    global_model.train()\n",
    "    for i, samples in enumerate(dataloader_train):\n",
    "        \n",
    "        rgbs = samples['rgb'].float().to(device)\n",
    "        depths = samples['depth'].float().to(device)\n",
    "        \n",
    "        # forward pass\n",
    "        output = global_model(rgbs)\n",
    "        loss = global_criterion(output, depths)\n",
    "\n",
    "        # backward pass\n",
    "        global_model.zero_grad()\n",
    "        loss.backward()\n",
    "\n",
    "        # optimization\n",
    "        global_optimizer.step()\n",
    "        \n",
    "        train_loss += loss.item()\n",
    "        \n",
    "    train_losses.append(train_loss / datalen_train)\n",
    "    \n",
    "    # validation\n",
    "    '''\n",
    "    valid_loss = 0\n",
    "    global_model.eval()\n",
    "    with torch.no_grad():\n",
    "        for i, samples in enumerate(dataloader_valid):\n",
    "        \n",
    "            rgbs = samples['rgb'].float().to(device)\n",
    "            depths = samples['depth'].float().to(device)\n",
    "\n",
    "            # forward pass\n",
    "            output = global_model(rgbs)\n",
    "            loss = global_criterion(output, depths)\n",
    "            \n",
    "            valid_loss += loss.item()\n",
    "            \n",
    "    valid_losses.append(valid_loss / datalen_valid)\n",
    "    '''\n",
    "    \n",
    "elapse = time.time() - start \n",
    "print('Time used: ', elapse, ' per epoch used: ', elapse / num_epochs)\n",
    "\n",
    "plot_losses(train_losses, valid_losses)"
   ]
  },
  {
   "cell_type": "code",
   "execution_count": null,
   "metadata": {},
   "outputs": [],
   "source": [
    "plot_losses(train_losses[10:], valid_losses[10:])"
   ]
  },
  {
   "cell_type": "markdown",
   "metadata": {},
   "source": [
    "### Train the local fine model"
   ]
  },
  {
   "cell_type": "code",
   "execution_count": null,
   "metadata": {
    "scrolled": true
   },
   "outputs": [],
   "source": [
    "figsize(12.5, 4)\n",
    "\n",
    "train_losses, valid_losses = [], []\n",
    "avg_grads = []\n",
    "start = time.time()\n",
    "for epoch in range(num_epochs):\n",
    "    \n",
    "    print('>', end=' ')\n",
    "    \n",
    "    # train\n",
    "    train_loss = 0\n",
    "    local_model.train()\n",
    "    for i, samples in enumerate(dataloader_train):\n",
    "        \n",
    "        rgbs = samples['rgb'].float().to(device)\n",
    "        depths = samples['depth'].float().to(device)\n",
    "        \n",
    "        # results from global coarse network\n",
    "        global_model.eval()\n",
    "        with torch.no_grad():\n",
    "            global_output = global_model(rgbs).unsqueeze(1)\n",
    "\n",
    "        # forward pass\n",
    "        output = local_model(rgbs, global_output).squeeze(1)\n",
    "        loss = local_criterion(output, depths)\n",
    "\n",
    "        # backward pass\n",
    "        local_model.zero_grad()\n",
    "        loss.backward()\n",
    "\n",
    "        # avarage gradient\n",
    "        avg_grad = []\n",
    "        for n, p in local_model.named_parameters():\n",
    "            if 'bias' in n:\n",
    "                continue\n",
    "            avg_grad.append(p.grad.abs().mean())\n",
    "        avg_grads.append(avg_grad)\n",
    "\n",
    "        # optimization\n",
    "        local_optimizer.step()\n",
    "        \n",
    "        train_loss += loss.item()\n",
    "        \n",
    "    train_losses.append(train_loss / datalen_train)\n",
    "\n",
    "    # valid\n",
    "    '''\n",
    "    valid_loss = 0\n",
    "    local_model.eval()\n",
    "    with torch.no_grad():\n",
    "        for i, samples in enumerate(dataloader_valid):\n",
    "\n",
    "            rgbs = samples['rgb'].float().to(device)\n",
    "            depths = samples['depth'].float().to(device)\n",
    "\n",
    "            # results from global coarse network\n",
    "            global_model.eval()\n",
    "            with torch.no_grad():\n",
    "                global_output = global_model(rgbs).unsqueeze(1)\n",
    "\n",
    "            # forward pass\n",
    "            output = local_model(rgbs, global_output).squeeze(1)\n",
    "            loss = local_criterion(output, depths)\n",
    "            \n",
    "            valid_loss += loss.item()\n",
    "    valid_losses.append(valid_loss / datalen_valid)\n",
    "    '''\n",
    "elapse = time.time() - start \n",
    "print('Time used: ', elapse, ' per epoch used: ', elapse / num_epochs)\n",
    "\n",
    "plot_losses(train_losses, valid_losses)"
   ]
  },
  {
   "cell_type": "code",
   "execution_count": null,
   "metadata": {},
   "outputs": [],
   "source": [
    "plot_losses(train_losses[10:], valid_losses[10:])"
   ]
  },
  {
   "cell_type": "markdown",
   "metadata": {},
   "source": [
    "### Validation"
   ]
  },
  {
   "cell_type": "code",
   "execution_count": null,
   "metadata": {},
   "outputs": [],
   "source": [
    "for i, samples in enumerate(dataloader_valid):\n",
    "\n",
    "    rgbs = samples['rgb'].float().to(device)\n",
    "    depths = samples['depth'].float().to(device)\n",
    "\n",
    "    # results from global coarse network\n",
    "    global_model.eval()\n",
    "    with torch.no_grad():\n",
    "        global_output = global_model(rgbs).unsqueeze(1)\n",
    "    \n",
    "    # results from local fine network\n",
    "    local_model.eval()\n",
    "    with torch.no_grad():\n",
    "        local_output = local_model(rgbs, global_output)\n",
    "    \n",
    "    break"
   ]
  },
  {
   "cell_type": "code",
   "execution_count": null,
   "metadata": {},
   "outputs": [],
   "source": [
    "for i in range(32):\n",
    "\n",
    "    d = local_output[i].view(74, 55)\n",
    "    d = torch.exp(d)\n",
    "    r = transforms.ToPILImage()(rgbs[i].cpu())\n",
    "    d_true = depths[i]\n",
    "    \n",
    "    \n",
    "    plt.subplot(131)\n",
    "    plt.imshow(r)\n",
    "    \n",
    "    plt.subplot(132)\n",
    "    print(d_true.shape)\n",
    "    plt.imshow(d_true.cpu())\n",
    "    \n",
    "    plt.subplot(133)\n",
    "    plt.imshow(d.cpu())\n",
    "\n",
    "    plt.show()"
   ]
  },
  {
   "cell_type": "code",
   "execution_count": null,
   "metadata": {},
   "outputs": [],
   "source": []
  }
 ],
 "metadata": {
  "kernelspec": {
   "display_name": "=base",
   "language": "python",
   "name": "base"
  },
  "language_info": {
   "codemirror_mode": {
    "name": "ipython",
    "version": 3
   },
   "file_extension": ".py",
   "mimetype": "text/x-python",
   "name": "python",
   "nbconvert_exporter": "python",
   "pygments_lexer": "ipython3",
   "version": "3.7.1"
  }
 },
 "nbformat": 4,
 "nbformat_minor": 2
}
