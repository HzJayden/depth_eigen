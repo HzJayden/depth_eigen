{
 "cells": [
  {
   "cell_type": "markdown",
   "metadata": {},
   "source": [
    "### About\n",
    "- This notebook is an implementation of the following papers.\n",
    "    - [Depth Map Prediction from a Single Image using a Multi-Scale Deep Network](https://arxiv.org/pdf/1406.2283.pdf) by Eigen et al., NIPS 2014\n",
    "- Dataset\n",
    "    - [NYU Depth Dataset V2](https://cs.nyu.edu/~silberman/datasets/nyu_depth_v2.html)"
   ]
  },
  {
   "cell_type": "code",
   "execution_count": 7,
   "metadata": {},
   "outputs": [],
   "source": [
    "import torch\n",
    "import torch.nn as nn\n",
    "import torchvision\n",
    "import torchvision.transforms as transforms\n",
    "from torch.autograd import Function\n",
    "import numpy as np\n",
    "import matplotlib.pyplot as plt\n",
    "\n",
    "%matplotlib inline"
   ]
  },
  {
   "cell_type": "markdown",
   "metadata": {},
   "source": [
    "### Device configuration"
   ]
  },
  {
   "cell_type": "code",
   "execution_count": 2,
   "metadata": {},
   "outputs": [],
   "source": [
    "device = torch.device('cuda:0' if torch.cuda.is_available() else 'cpu')"
   ]
  },
  {
   "cell_type": "markdown",
   "metadata": {},
   "source": [
    "### Hyper parameters"
   ]
  },
  {
   "cell_type": "code",
   "execution_count": 4,
   "metadata": {},
   "outputs": [],
   "source": [
    "num_epochs = 20 # not specified in paper\n",
    "batch_size = 32\n",
    "lr_coarse_conv = 0.001\n",
    "lr_coarse_fc = 0.1\n",
    "lr_fine_1_3 = 0.001\n",
    "lr_fine_2 = 0.01\n",
    "momentum = 0.9"
   ]
  },
  {
   "cell_type": "markdown",
   "metadata": {},
   "source": [
    "### Dataset loader"
   ]
  },
  {
   "cell_type": "markdown",
   "metadata": {},
   "source": [
    "### Network definition"
   ]
  },
  {
   "cell_type": "code",
   "execution_count": 21,
   "metadata": {},
   "outputs": [],
   "source": [
    "class GlobalCoarseNet(nn.Module):\n",
    "    \n",
    "    def __init__(self):\n",
    "        super(GlobalCoarseNet, self).__init__()\n",
    "        \n",
    "        self.coarse1 = nn.Sequential(nn.Conv2d(in_channels=3, out_channels=96, kernel_size=11, stride=4), \n",
    "                                     nn.MaxPool2d(kernel_size=2))\n",
    "        self.coarse2 = nn.Sequential(nn.Conv2d(in_channels=96, out_channels=256, kernel_size=5), \n",
    "                                     nn.MaxPool2d(kernel_size=2))\n",
    "        self.coarse3 = nn.Sequential(nn.Conv2d(in_channels=256, out_channels=384, kernel_size=3))\n",
    "        self.coarse4 = nn.Sequential(nn.Conv2d(in_channels=384, out_channels=384, kernel_size=3))\n",
    "        self.coarse5 = nn.Sequential(nn.Conv2d(in_channels=384, out_channels=256, kernel_size=3))\n",
    "        self.coarse6 = nn.Linear(in_features=256 * 8 * 6, out_features=4096)\n",
    "        self.coarse7 = nn.Linear(in_features=4096, out_features=74 * 55)\n",
    "    \n",
    "    def forward(self, x):\n",
    "        x = self.coarse1(x)\n",
    "        x = self.coarse2(x)\n",
    "        x = self.coarse3(x)\n",
    "        x = self.coarse4(x)\n",
    "        x = self.coarse5(x)\n",
    "        x = self.coarse6(x)\n",
    "        x = self.coarse7(x)\n",
    "        \n",
    "        return x\n",
    "\n",
    "class LocalFineNet(nn.Module):\n",
    "    \n",
    "    def __init__(self):\n",
    "        super(LocalFineNet, self).__init__()\n",
    "        \n",
    "        self.fine1 = nn.Sequential(nn.Conv2d(in_channels=3, out_channels=63, kernel_size=9, stride=2),\n",
    "                                   nn.MaxPool2d(kernel_size=2))\n",
    "        \n",
    "        # fine2 is implemented in forward function\n",
    "        \n",
    "        self.fine3 = nn.Conv2d(in_channels=64, out_channels=64, kernel_size=5)\n",
    "        self.fine4 = nn.Conv2d(in_channels=64, out_channels=1, kernel_size=5)\n",
    "    \n",
    "    def forward(self, x, global_output_batch):\n",
    "        x = self.fine1(x)\n",
    "        x = torch.cat((x, global_output_batch), dim=1)\n",
    "        x = self.fine3(x)\n",
    "        x = self.fine4(x)\n",
    "        \n",
    "        return x\n",
    "\n",
    "# initialize\n",
    "global_model = GlobalCoarseNet().to(device)\n",
    "local_model = LocalFineNet().to(device)"
   ]
  },
  {
   "cell_type": "markdown",
   "metadata": {},
   "source": [
    "### Loss and optimizer"
   ]
  },
  {
   "cell_type": "code",
   "execution_count": 24,
   "metadata": {},
   "outputs": [],
   "source": [
    "class ScaleInvariantLoss(Function):\n",
    "    def forward(pred, target):\n",
    "        pred = pred.numpy()\n",
    "        target = target.numpy()\n",
    "        \n",
    "        dist = np.log(pred) - np.log(target)\n",
    "        \n",
    "        # the lambda parameter is set to 0.5\n",
    "        loss = np.mean(dist ** 2) - 0.5 / ((dist.size) ** 2) * (np.sum(dist) ** 2) \n",
    "        \n",
    "        return torch.Tensor(loss)\n",
    "    \n",
    "    def backward(grad_output):\n",
    "        return grad_output\n",
    "\n",
    "# try this lr first\n",
    "global_optimizer = torch.optim.SGD(params=global_model.parameters(), \n",
    "                                   lr=lr_coarse_conv, momentum=0.9)"
   ]
  },
  {
   "cell_type": "markdown",
   "metadata": {},
   "source": [
    "### Train global model"
   ]
  },
  {
   "cell_type": "code",
   "execution_count": null,
   "metadata": {},
   "outputs": [],
   "source": []
  }
 ],
 "metadata": {
  "kernelspec": {
   "display_name": "Python 3",
   "language": "python",
   "name": "python3"
  },
  "language_info": {
   "codemirror_mode": {
    "name": "ipython",
    "version": 3
   },
   "file_extension": ".py",
   "mimetype": "text/x-python",
   "name": "python",
   "nbconvert_exporter": "python",
   "pygments_lexer": "ipython3",
   "version": "3.7.0"
  }
 },
 "nbformat": 4,
 "nbformat_minor": 2
}
