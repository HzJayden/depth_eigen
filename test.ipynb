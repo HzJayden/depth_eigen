{
 "cells": [
  {
   "cell_type": "markdown",
   "metadata": {},
   "source": [
    "### About\n",
    "- This notebook is an implementation of the following papers.\n",
    "    - [Depth Map Prediction from a Single Image using a Multi-Scale Deep Network](https://arxiv.org/pdf/1406.2283.pdf) by Eigen et al., NIPS 2014\n",
    "- Dataset\n",
    "    - [NYU Depth Dataset V2](https://cs.nyu.edu/~silberman/datasets/nyu_depth_v2.html)"
   ]
  },
  {
   "cell_type": "code",
   "execution_count": 2,
   "metadata": {},
   "outputs": [],
   "source": [
    "import torch\n",
    "import torch.nn as nn\n",
    "import torchvision\n",
    "import torchvision.transforms as transforms\n",
    "from torch.autograd import Function\n",
    "import numpy as np\n",
    "import matplotlib.pyplot as plt\n",
    "\n",
    "%matplotlib inline"
   ]
  },
  {
   "cell_type": "markdown",
   "metadata": {},
   "source": [
    "### Device configuration"
   ]
  },
  {
   "cell_type": "code",
   "execution_count": 3,
   "metadata": {},
   "outputs": [],
   "source": [
    "device = torch.device('cuda:0' if torch.cuda.is_available() else 'cpu')"
   ]
  },
  {
   "cell_type": "markdown",
   "metadata": {},
   "source": [
    "### Hyper parameters"
   ]
  },
  {
   "cell_type": "code",
   "execution_count": 108,
   "metadata": {},
   "outputs": [],
   "source": [
    "num_epochs = 20 # not specified in paper\n",
    "batch_size = 32"
   ]
  },
  {
   "cell_type": "markdown",
   "metadata": {},
   "source": [
    "### Dataset loader"
   ]
  },
  {
   "cell_type": "markdown",
   "metadata": {},
   "source": [
    "### Network definition"
   ]
  },
  {
   "cell_type": "code",
   "execution_count": 129,
   "metadata": {},
   "outputs": [],
   "source": [
    "class GlobalCoarseNet(nn.Module):\n",
    "    \n",
    "    def __init__(self):\n",
    "        super(GlobalCoarseNet, self).__init__()\n",
    "        \n",
    "        self.coarse1 = nn.Sequential(nn.Conv2d(in_channels=3, out_channels=96, kernel_size=11, stride=4), \n",
    "                                     nn.ReLU(),\n",
    "                                     nn.MaxPool2d(kernel_size=2))\n",
    "        self.coarse2 = nn.Sequential(nn.Conv2d(in_channels=96, out_channels=256, kernel_size=5, padding=2), \n",
    "                                     nn.ReLU(),\n",
    "                                     nn.MaxPool2d(kernel_size=2))\n",
    "        \n",
    "        self.coarse3 = nn.Sequential(nn.Conv2d(in_channels=256, out_channels=384, kernel_size=3, padding=1), \n",
    "                                     nn.ReLU())\n",
    "        \n",
    "        self.coarse4 = nn.Sequential(nn.Conv2d(in_channels=384, out_channels=384, kernel_size=3, padding=1), \n",
    "                                     nn.ReLU())\n",
    "        \n",
    "        self.coarse5 = nn.Sequential(nn.Conv2d(in_channels=384, out_channels=256, kernel_size=3, stride=2), \n",
    "                                     nn.ReLU())\n",
    "        \n",
    "        self.coarse6 = nn.Sequential(nn.Linear(in_features=256 * 8 * 6, out_features=4096), \n",
    "                                     nn.ReLU(), nn.Dropout(0.5))\n",
    "        \n",
    "        self.coarse7 = nn.Linear(in_features=4096, out_features=74 * 55)\n",
    "    \n",
    "    def forward(self, x):\n",
    "        x = self.coarse1(x)\n",
    "        x = self.coarse2(x)\n",
    "        x = self.coarse3(x)\n",
    "        x = self.coarse4(x)\n",
    "        x = self.coarse5(x)\n",
    "        x = x.reshape(batch_size, -1)\n",
    "        x = self.coarse6(x)\n",
    "        x = self.coarse7(x)\n",
    "        x = x.reshape(batch_size, 74, 55)\n",
    "        return x\n",
    "\n",
    "class LocalFineNet(nn.Module):\n",
    "    \n",
    "    def __init__(self):\n",
    "        super(LocalFineNet, self).__init__()\n",
    "        \n",
    "        self.fine1 = nn.Sequential(nn.Conv2d(in_channels=3, out_channels=63, kernel_size=9, stride=2),\n",
    "                                   nn.ReLU(),\n",
    "                                   nn.MaxPool2d(kernel_size=2))\n",
    "        \n",
    "        self.fine2 = nn.Sequential(nn.Conv2d(in_channels=64, out_channels=64, kernel_size=5, padding=2), \n",
    "                                   nn.ReLU())\n",
    "        \n",
    "        self.fine3 = nn.Conv2d(in_channels=64, out_channels=1, kernel_size=5, padding=2)\n",
    "    \n",
    "    def forward(self, x, global_output_batch):\n",
    "        x = self.fine1(x)\n",
    "        x = torch.cat((x, global_output_batch), dim=1)\n",
    "        x = self.fine2(x)\n",
    "        x = self.fine3(x)\n",
    "        \n",
    "        return x\n",
    "\n",
    "# initialize\n",
    "global_model = GlobalCoarseNet().to(device)\n",
    "local_model = LocalFineNet().to(device)"
   ]
  },
  {
   "cell_type": "markdown",
   "metadata": {},
   "source": [
    "### Loss and optimizer\n",
    "- Reference: [Per-parameter options](https://pytorch.org/docs/stable/optim.html)"
   ]
  },
  {
   "cell_type": "code",
   "execution_count": 154,
   "metadata": {},
   "outputs": [],
   "source": [
    "class ScaleInvariantLoss(nn.Module):\n",
    "    def __init__(self):\n",
    "        super(ScaleInvariantLoss, self).__init__()\n",
    "\n",
    "    def forward(self, pred, target):\n",
    "        \n",
    "        dist = pred - target\n",
    "        \n",
    "        # the lambda parameter is set to 0.5\n",
    "        loss = torch.mean(dist ** 2) - 0.5 / ((torch.numel(dist)) ** 2) * (torch.sum(dist) ** 2) \n",
    "        \n",
    "        return loss\n",
    "\n",
    "# loss\n",
    "global_criterion = ScaleInvariantLoss()\n",
    "local_criterion = ScaleInvariantLoss()\n",
    "\n",
    "# optimizer\n",
    "r=100\n",
    "global_optimizer = torch.optim.SGD([{'params': global_model.coarse6.parameters(), 'lr': 0.1*r},\n",
    "                                    {'params': global_model.coarse7.parameters(), 'lr': 0.1*r}], \n",
    "                                   lr=0.001*r, momentum=0.9)\n",
    "\n",
    "local_optimizer = torch.optim.SGD([{'params': local_model.fine2.parameters(), 'lr': 0.01*r}], \n",
    "                                  lr=0.001*r, momentum=0.9)"
   ]
  },
  {
   "cell_type": "markdown",
   "metadata": {},
   "source": [
    "### Plot gradient flow\n",
    "- [plot function](https://discuss.pytorch.org/t/check-gradient-flow-in-network/15063/7)\n",
    "- [get gradient of each layer](https://discuss.pytorch.org/t/how-to-calculate-gradient-for-each-layer/1595/4)"
   ]
  },
  {
   "cell_type": "code",
   "execution_count": 140,
   "metadata": {},
   "outputs": [],
   "source": [
    "def plot_grad_flow(named_parameters):\n",
    "    ave_grads = []\n",
    "    layers = []\n",
    "    for n, p in named_parameters:\n",
    "        if(p.requires_grad) and (\"bias\" not in n):\n",
    "            layers.append(n)\n",
    "            ave_grads.append(p.grad.abs().mean())\n",
    "    plt.plot(ave_grads, alpha=0.3, color=\"b\")\n",
    "    plt.hlines(0, 0, len(ave_grads)+1, linewidth=1, color=\"k\" )\n",
    "    plt.xticks(range(0,len(ave_grads), 1), layers, rotation=\"vertical\")\n",
    "    plt.xlim(xmin=0, xmax=len(ave_grads))\n",
    "    plt.xlabel(\"Layers\")\n",
    "    plt.ylabel(\"average gradient\")\n",
    "    plt.title(\"Gradient flow\")\n",
    "    plt.grid(True)"
   ]
  },
  {
   "cell_type": "markdown",
   "metadata": {},
   "source": [
    "### Train the global coarse model"
   ]
  },
  {
   "cell_type": "code",
   "execution_count": 156,
   "metadata": {},
   "outputs": [
    {
     "name": "stdout",
     "output_type": "stream",
     "text": [
      "loss at 1 is 1.0043233633041382\n",
      "loss at 2 is 1.0026752948760986\n",
      "loss at 3 is 0.9992614984512329\n",
      "loss at 4 is 0.9930824637413025\n",
      "loss at 5 is 0.9843676686286926\n",
      "loss at 6 is 0.9771458506584167\n",
      "loss at 7 is 0.9768667221069336\n",
      "loss at 8 is 0.981991708278656\n",
      "loss at 9 is 0.978177011013031\n",
      "loss at 10 is 0.9729894995689392\n"
     ]
    },
    {
     "data": {
      "image/png": "[encoded data removed]",
      "text/plain": [
       "<Figure size 432x288 with 1 Axes>"
      ]
     },
     "metadata": {
      "needs_background": "light"
     },
     "output_type": "display_data"
    }
   ],
   "source": [
    "a = torch.randn(batch_size, 3, 304, 228)\n",
    "a = a.to(device)\n",
    "\n",
    "target = torch.randn(batch_size, 74, 55)\n",
    "target = target.to(device)\n",
    "\n",
    "losses = []\n",
    "for i in range(10):\n",
    "    # forward pass\n",
    "    output = global_model(a)\n",
    "    loss = global_criterion(output, target)\n",
    "    losses.append(loss.item())\n",
    "    \n",
    "    # backward pass\n",
    "    global_model.zero_grad()\n",
    "    loss.backward()\n",
    "    plot_grad_flow(global_model.named_parameters())\n",
    "    global_optimizer.step()\n",
    "    \n",
    "    print('loss at {} is {}'.format(i + 1, loss))\n",
    "\n",
    "#plt.plot(losses)"
   ]
  },
  {
   "cell_type": "markdown",
   "metadata": {},
   "source": [
    "### Train the local fine model"
   ]
  },
  {
   "cell_type": "code",
   "execution_count": 157,
   "metadata": {},
   "outputs": [
    {
     "name": "stdout",
     "output_type": "stream",
     "text": [
      "loss at 1 is 1.003607988357544\n",
      "loss at 2 is 1.003606915473938\n",
      "loss at 3 is 1.0036042928695679\n",
      "loss at 4 is 1.0036044120788574\n",
      "loss at 5 is 1.003603458404541\n",
      "loss at 6 is 1.0036035776138306\n",
      "loss at 7 is 1.0036031007766724\n",
      "loss at 8 is 1.003603219985962\n",
      "loss at 9 is 1.0036033391952515\n",
      "loss at 10 is 1.0036033391952515\n"
     ]
    },
    {
     "data": {
      "image/png": "[encoded data removed]",
      "text/plain": [
       "<Figure size 432x288 with 1 Axes>"
      ]
     },
     "metadata": {
      "needs_background": "light"
     },
     "output_type": "display_data"
    }
   ],
   "source": [
    "losses = []\n",
    "\n",
    "global_model.eval()\n",
    "with torch.no_grad():\n",
    "    global_output = global_model(a).unsqueeze(1)\n",
    "\n",
    "for i in range(10):\n",
    "    \n",
    "    # forward pass\n",
    "    output = local_model(a, global_output)\n",
    "    loss = local_criterion(output, target)\n",
    "    losses.append(loss.item())\n",
    "    \n",
    "    # backward pass\n",
    "    local_model.zero_grad()\n",
    "    loss.backward()\n",
    "    plot_grad_flow(local_model.named_parameters())\n",
    "    local_optimizer.step()\n",
    "    \n",
    "    print('loss at {} is {}'.format(i + 1, loss))"
   ]
  },
  {
   "cell_type": "code",
   "execution_count": null,
   "metadata": {},
   "outputs": [],
   "source": []
  }
 ],
 "metadata": {
  "kernelspec": {
   "display_name": "Python 3",
   "language": "python",
   "name": "python3"
  },
  "language_info": {
   "codemirror_mode": {
    "name": "ipython",
    "version": 3
   },
   "file_extension": ".py",
   "mimetype": "text/x-python",
   "name": "python",
   "nbconvert_exporter": "python",
   "pygments_lexer": "ipython3",
   "version": "3.7.0"
  }
 },
 "nbformat": 4,
 "nbformat_minor": 2
}
