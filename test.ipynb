{
 "cells": [
  {
   "cell_type": "markdown",
   "metadata": {},
   "source": [
    "### About\n",
    "- This notebook is an implementation of the following papers.\n",
    "    - [Depth Map Prediction from a Single Image using a Multi-Scale Deep Network](https://arxiv.org/pdf/1406.2283.pdf) by Eigen et al., NIPS 2014\n",
    "- Dataset\n",
    "    - [NYU Depth Dataset V2](https://cs.nyu.edu/~silberman/datasets/nyu_depth_v2.html)"
   ]
  },
  {
   "cell_type": "code",
   "execution_count": 2,
   "metadata": {},
   "outputs": [],
   "source": [
    "import torch\n",
    "import torch.nn as nn\n",
    "import torchvision\n",
    "import torchvision.transforms as transforms\n",
    "from torch.autograd import Function\n",
    "import numpy as np\n",
    "import matplotlib.pyplot as plt\n",
    "\n",
    "%matplotlib inline"
   ]
  },
  {
   "cell_type": "markdown",
   "metadata": {},
   "source": [
    "### Device configuration"
   ]
  },
  {
   "cell_type": "code",
   "execution_count": 3,
   "metadata": {},
   "outputs": [],
   "source": [
    "device = torch.device('cuda:0' if torch.cuda.is_available() else 'cpu')"
   ]
  },
  {
   "cell_type": "markdown",
   "metadata": {},
   "source": [
    "### Hyper parameters"
   ]
  },
  {
   "cell_type": "code",
   "execution_count": 4,
   "metadata": {},
   "outputs": [],
   "source": [
    "num_epochs = 20 # not specified in paper\n",
    "batch_size = 32\n",
    "lr_coarse_conv = 0.001\n",
    "lr_coarse_fc = 0.1\n",
    "lr_fine_1_3 = 0.001\n",
    "lr_fine_2 = 0.01\n",
    "momentum = 0.9"
   ]
  },
  {
   "cell_type": "markdown",
   "metadata": {},
   "source": [
    "### Dataset loader"
   ]
  },
  {
   "cell_type": "markdown",
   "metadata": {},
   "source": [
    "### Network definition"
   ]
  },
  {
   "cell_type": "code",
   "execution_count": 5,
   "metadata": {},
   "outputs": [],
   "source": [
    "class GlobalCoarseNet(nn.Module):\n",
    "    \n",
    "    def __init__(self):\n",
    "        super(GlobalCoarseNet, self).__init__()\n",
    "        \n",
    "        self.coarse1 = nn.Sequential(nn.Conv2d(in_channels=3, out_channels=96, kernel_size=11, stride=4), \n",
    "                                     nn.MaxPool2d(kernel_size=2))\n",
    "        self.coarse2 = nn.Sequential(nn.Conv2d(in_channels=96, out_channels=256, kernel_size=5, padding=2), \n",
    "                                     nn.MaxPool2d(kernel_size=2))\n",
    "        self.coarse3 = nn.Conv2d(in_channels=256, out_channels=384, kernel_size=3, padding=1)\n",
    "        self.coarse4 = nn.Conv2d(in_channels=384, out_channels=384, kernel_size=3, padding=1)\n",
    "        self.coarse5 = nn.Conv2d(in_channels=384, out_channels=256, kernel_size=3, stride=2)\n",
    "        self.coarse6 = nn.Linear(in_features=256 * 8 * 6, out_features=4096)\n",
    "        self.coarse7 = nn.Linear(in_features=4096, out_features=74 * 55)\n",
    "    \n",
    "    def forward(self, x):\n",
    "        x = self.coarse1(x)\n",
    "        x = self.coarse2(x)\n",
    "        x = self.coarse3(x)\n",
    "        x = self.coarse4(x)\n",
    "        x = self.coarse5(x)\n",
    "        x = x.reshape(batch_size, -1)\n",
    "        x = self.coarse6(x)\n",
    "        x = self.coarse7(x)\n",
    "        x = x.reshape(batch_size, 74, 55)\n",
    "        \n",
    "        return x\n",
    "\n",
    "class LocalFineNet(nn.Module):\n",
    "    \n",
    "    def __init__(self):\n",
    "        super(LocalFineNet, self).__init__()\n",
    "        \n",
    "        self.fine1 = nn.Sequential(nn.Conv2d(in_channels=3, out_channels=63, kernel_size=9, stride=2),\n",
    "                                   nn.MaxPool2d(kernel_size=2))\n",
    "        \n",
    "        # fine2 is implemented in forward function\n",
    "        \n",
    "        self.fine3 = nn.Conv2d(in_channels=64, out_channels=64, kernel_size=5)\n",
    "        self.fine4 = nn.Conv2d(in_channels=64, out_channels=1, kernel_size=5)\n",
    "    \n",
    "    def forward(self, x, global_output_batch):\n",
    "        x = self.fine1(x)\n",
    "        x = torch.cat((x, global_output_batch), dim=1)\n",
    "        x = self.fine3(x)\n",
    "        x = self.fine4(x)\n",
    "        \n",
    "        return x\n",
    "\n",
    "# initialize\n",
    "global_model = GlobalCoarseNet().to(device)\n",
    "local_model = LocalFineNet().to(device)"
   ]
  },
  {
   "cell_type": "markdown",
   "metadata": {},
   "source": [
    "### Loss and optimizer\n",
    "- [Per-parameter options](https://pytorch.org/docs/stable/optim.html)"
   ]
  },
  {
   "cell_type": "code",
   "execution_count": 83,
   "metadata": {},
   "outputs": [],
   "source": [
    "class ScaleInvariantLoss(nn.Module):\n",
    "    def __init__(self):\n",
    "        super(ScaleInvariantLoss, self).__init__()\n",
    "\n",
    "    def forward(self, pred, target):\n",
    "        \n",
    "        dist = torch.log(pred) - torch.log(target)\n",
    "        \n",
    "        # log function might be nan if some item in pred is negative\n",
    "        \n",
    "        # the lambda parameter is set to 0.5\n",
    "        loss = torch.mean(dist ** 2) - 0.5 / ((torch.numel(dist)) ** 2) * (torch.sum(dist) ** 2) \n",
    "        \n",
    "        return loss\n",
    "        \n",
    "\n",
    "# loss\n",
    "global_criterion = ScaleInvariantLoss()\n",
    "\n",
    "# optimizer\n",
    "global_optimizer = torch.optim.SGD([{'params': global_model.coarse6.parameters(), 'lr': lr_coarse_fc},\n",
    "                                    {'params': global_model.coarse7.parameters(), 'lr': lr_coarse_fc}], \n",
    "                                   lr=lr_coarse_conv, momentum=momentum)"
   ]
  },
  {
   "cell_type": "markdown",
   "metadata": {},
   "source": [
    "### Train the global model"
   ]
  },
  {
   "cell_type": "code",
   "execution_count": 84,
   "metadata": {},
   "outputs": [
    {
     "name": "stdout",
     "output_type": "stream",
     "text": [
      "loss:  tensor(nan, grad_fn=<SubBackward0>)\n"
     ]
    }
   ],
   "source": [
    "a = torch.abs(torch.randn(batch_size, 3, 304, 228))\n",
    "a = a.to(device)\n",
    "\n",
    "target = torch.abs(torch.randn(batch_size, 74, 55))\n",
    "target = target.to(device)\n",
    "\n",
    "losses = []\n",
    "for i in range(1):\n",
    "    # forward pass\n",
    "    output = global_model(a)\n",
    "    loss = global_criterion(output, target)\n",
    "    print('loss: ', loss)\n",
    "    losses.append(loss.item())\n",
    "    \n",
    "    # backward pass\n",
    "    global_model.zero_grad()\n",
    "    loss.backward()\n",
    "    global_optimizer.step()\n",
    "    \n",
    "    if (i + 1) % 10 == 0:\n",
    "        print('loss at {} is {}'.format(i + 1, loss))"
   ]
  },
  {
   "cell_type": "code",
   "execution_count": null,
   "metadata": {},
   "outputs": [],
   "source": []
  },
  {
   "cell_type": "code",
   "execution_count": null,
   "metadata": {},
   "outputs": [],
   "source": []
  }
 ],
 "metadata": {
  "kernelspec": {
   "display_name": "Python 3",
   "language": "python",
   "name": "python3"
  },
  "language_info": {
   "codemirror_mode": {
    "name": "ipython",
    "version": 3
   },
   "file_extension": ".py",
   "mimetype": "text/x-python",
   "name": "python",
   "nbconvert_exporter": "python",
   "pygments_lexer": "ipython3",
   "version": "3.7.0"
  }
 },
 "nbformat": 4,
 "nbformat_minor": 2
}
