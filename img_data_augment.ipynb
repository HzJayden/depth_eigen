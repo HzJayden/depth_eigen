{
 "cells": [
  {
   "cell_type": "code",
   "execution_count": 193,
   "metadata": {},
   "outputs": [],
   "source": [
    "import torchvision.transforms.functional as F\n",
    "import torchvision.transforms as transforms\n",
    "import numpy as np\n",
    "from PIL import Image\n",
    "import os\n",
    "import cv2\n",
    "from matplotlib import pyplot as plt"
   ]
  },
  {
   "cell_type": "markdown",
   "metadata": {},
   "source": [
    "### グレー画像"
   ]
  },
  {
   "cell_type": "code",
   "execution_count": 194,
   "metadata": {},
   "outputs": [],
   "source": [
    "img0 = np.zeros((50, 50), np.uint8)\n",
    "img0 = cv2.rectangle(img0, (5, 5), (35, 30), 1, 1)\n",
    "\n",
    "img1 = np.zeros((50, 50), np.uint8)\n",
    "img1 = cv2.rectangle(img1, (5, 5), (35, 20), 1, 1)"
   ]
  },
  {
   "cell_type": "markdown",
   "metadata": {},
   "source": [
    "### RGB画像"
   ]
  },
  {
   "cell_type": "code",
   "execution_count": 195,
   "metadata": {},
   "outputs": [],
   "source": [
    "img0 = np.zeros((50, 50, 3), np.uint8)\n",
    "img0 = cv2.rectangle(img0, (5, 5), (35, 30), (100, 100, 0), 1)\n",
    "\n",
    "img1 = np.zeros((50, 50, 3), np.uint8)\n",
    "img1 = cv2.rectangle(img1, (5, 5), (35, 30), (255, 0, 0), 1)"
   ]
  },
  {
   "cell_type": "markdown",
   "metadata": {},
   "source": [
    "### PIL image と ndarray の相互転換"
   ]
  },
  {
   "cell_type": "code",
   "execution_count": 196,
   "metadata": {},
   "outputs": [],
   "source": [
    "def np2pil(img):\n",
    "    #return Image.fromarray(np.uint8(img))\n",
    "    return F.to_pil_image(img)\n",
    "\n",
    "def pil2np(img):\n",
    "    return np.asarray(img)"
   ]
  },
  {
   "cell_type": "markdown",
   "metadata": {},
   "source": [
    "### 二つの画像を同じ角度でランダムに回転"
   ]
  },
  {
   "cell_type": "code",
   "execution_count": 197,
   "metadata": {},
   "outputs": [
    {
     "name": "stdout",
     "output_type": "stream",
     "text": [
      "158\n"
     ]
    },
    {
     "data": {
      "text/plain": [
       "<matplotlib.image.AxesImage at 0x7f8e4a6f5ac8>"
      ]
     },
     "execution_count": 197,
     "metadata": {},
     "output_type": "execute_result"
    },
    {
     "data": {
      "image/png": "[encoded data removed]",
      "text/plain": [
       "<Figure size 432x288 with 4 Axes>"
      ]
     },
     "metadata": {
      "needs_background": "light"
     },
     "output_type": "display_data"
    }
   ],
   "source": [
    "plt.subplot(221)\n",
    "plt.imshow(img0)\n",
    "\n",
    "plt.subplot(222)\n",
    "plt.imshow(img1)\n",
    "\n",
    "ang = np.random.randint(360)\n",
    "print(ang)\n",
    "img0_ = F.rotate(np2pil(img0), ang)\n",
    "img1_ = F.rotate(np2pil(img1), ang)\n",
    "    \n",
    "plt.subplot(223)\n",
    "plt.imshow(pil2np(img0_))\n",
    "\n",
    "plt.subplot(224)\n",
    "plt.imshow(pil2np(img1_))"
   ]
  },
  {
   "cell_type": "markdown",
   "metadata": {},
   "source": [
    "### 二つの画像を同じ方向でランダムにフリップ"
   ]
  },
  {
   "cell_type": "code",
   "execution_count": 198,
   "metadata": {},
   "outputs": [
    {
     "data": {
      "image/png": "[encoded data removed]",
      "text/plain": [
       "<Figure size 432x288 with 4 Axes>"
      ]
     },
     "metadata": {
      "needs_background": "light"
     },
     "output_type": "display_data"
    }
   ],
   "source": [
    "plt.subplot(221)\n",
    "plt.imshow(img0)\n",
    "\n",
    "plt.subplot(222)\n",
    "plt.imshow(img1)\n",
    "\n",
    "if np.random.randint(2) == 0:\n",
    "    img0_ = F.hflip(np2pil(img0))\n",
    "    img1_ = F.hflip(np2pil(img1))\n",
    "    \n",
    "    plt.subplot(223)\n",
    "    plt.imshow(pil2np(img0_))\n",
    "\n",
    "    plt.subplot(224)\n",
    "    plt.imshow(pil2np(img1_))"
   ]
  },
  {
   "cell_type": "code",
   "execution_count": 199,
   "metadata": {},
   "outputs": [
    {
     "data": {
      "image/png": "[encoded data removed]",
      "text/plain": [
       "<Figure size 432x288 with 2 Axes>"
      ]
     },
     "metadata": {
      "needs_background": "light"
     },
     "output_type": "display_data"
    }
   ],
   "source": [
    "plt.subplot(221)\n",
    "plt.imshow(img0)\n",
    "\n",
    "plt.subplot(222)\n",
    "plt.imshow(img1)\n",
    "\n",
    "if np.random.randint(2) == 0:\n",
    "    img0_ = F.vflip(np2pil(img0))\n",
    "    img1_ = F.vflip(np2pil(img1))\n",
    "    \n",
    "    plt.subplot(223)\n",
    "    plt.imshow(pil2np(img0_))\n",
    "\n",
    "    plt.subplot(224)\n",
    "    plt.imshow(pil2np(img1_))"
   ]
  },
  {
   "cell_type": "markdown",
   "metadata": {},
   "source": [
    "### 二つの画像の同じ箇所をランダムに切り出す"
   ]
  },
  {
   "cell_type": "code",
   "execution_count": 200,
   "metadata": {},
   "outputs": [
    {
     "name": "stdout",
     "output_type": "stream",
     "text": [
      "16 12 25 25\n"
     ]
    },
    {
     "data": {
      "text/plain": [
       "<matplotlib.image.AxesImage at 0x7f8e4a43f668>"
      ]
     },
     "execution_count": 200,
     "metadata": {},
     "output_type": "execute_result"
    },
    {
     "data": {
      "image/png": "[encoded data removed]",
      "text/plain": [
       "<Figure size 432x288 with 4 Axes>"
      ]
     },
     "metadata": {
      "needs_background": "light"
     },
     "output_type": "display_data"
    }
   ],
   "source": [
    "plt.subplot(221)\n",
    "plt.imshow(img0)\n",
    "\n",
    "plt.subplot(222)\n",
    "plt.imshow(img1)\n",
    "\n",
    "i, j, h, w = transforms.RandomCrop.get_params(np2pil(img0), output_size=(25, 25))\n",
    "print(i, j, h, w)\n",
    "img0_ = F.crop(np2pil(img0), i, j, h, w)\n",
    "img1_ = F.crop(np2pil(img1), i, j, h, w)\n",
    "    \n",
    "plt.subplot(223)\n",
    "plt.imshow(pil2np(img0_))\n",
    "\n",
    "plt.subplot(224)\n",
    "plt.imshow(pil2np(img1_))"
   ]
  },
  {
   "cell_type": "code",
   "execution_count": 201,
   "metadata": {},
   "outputs": [
    {
     "name": "stdout",
     "output_type": "stream",
     "text": [
      "17 13 25 25\n"
     ]
    },
    {
     "data": {
      "text/plain": [
       "<matplotlib.image.AxesImage at 0x7f8e4a9f4a20>"
      ]
     },
     "execution_count": 201,
     "metadata": {},
     "output_type": "execute_result"
    },
    {
     "data": {
      "image/png": "[encoded data removed]",
      "text/plain": [
       "<Figure size 432x288 with 4 Axes>"
      ]
     },
     "metadata": {
      "needs_background": "light"
     },
     "output_type": "display_data"
    }
   ],
   "source": [
    "plt.subplot(221)\n",
    "plt.imshow(img0)\n",
    "\n",
    "plt.subplot(222)\n",
    "plt.imshow(img1)\n",
    "\n",
    "i, j, h, w = transforms.RandomCrop.get_params(np2pil(img0), output_size=(25, 25))\n",
    "print(i, j, h, w)\n",
    "img0_ = F.resized_crop(np2pil(img0), i, j, h, w, (50, 50))\n",
    "img1_ = F.resized_crop(np2pil(img1), i, j, h, w, (50, 50))\n",
    "    \n",
    "plt.subplot(223)\n",
    "plt.imshow(pil2np(img0_))\n",
    "\n",
    "plt.subplot(224)\n",
    "plt.imshow(pil2np(img1_))"
   ]
  },
  {
   "cell_type": "code",
   "execution_count": null,
   "metadata": {},
   "outputs": [],
   "source": []
  }
 ],
 "metadata": {
  "kernelspec": {
   "display_name": "=base",
   "language": "python",
   "name": "base"
  },
  "language_info": {
   "codemirror_mode": {
    "name": "ipython",
    "version": 3
   },
   "file_extension": ".py",
   "mimetype": "text/x-python",
   "name": "python",
   "nbconvert_exporter": "python",
   "pygments_lexer": "ipython3",
   "version": "3.7.3"
  }
 },
 "nbformat": 4,
 "nbformat_minor": 2
}
