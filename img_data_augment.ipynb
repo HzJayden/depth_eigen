{
 "cells": [
  {
   "cell_type": "code",
   "execution_count": 153,
   "metadata": {},
   "outputs": [],
   "source": [
    "import torchvision.transforms.functional as F\n",
    "import numpy as np\n",
    "from PIL import Image\n",
    "import os\n",
    "import cv2\n",
    "from matplotlib import pyplot as plt"
   ]
  },
  {
   "cell_type": "markdown",
   "metadata": {},
   "source": [
    "### グレー画像"
   ]
  },
  {
   "cell_type": "code",
   "execution_count": 154,
   "metadata": {},
   "outputs": [],
   "source": [
    "img0 = np.zeros((50, 50), np.uint8)\n",
    "img0 = cv2.rectangle(img0, (5, 5), (35, 30), 1, 1)\n",
    "\n",
    "img1 = np.zeros((50, 50), np.uint8)\n",
    "img1 = cv2.rectangle(img1, (5, 5), (35, 20), 1, 1)"
   ]
  },
  {
   "cell_type": "markdown",
   "metadata": {},
   "source": [
    "### RGB画像"
   ]
  },
  {
   "cell_type": "code",
   "execution_count": 155,
   "metadata": {},
   "outputs": [],
   "source": [
    "img0 = np.zeros((50, 50, 3), np.uint8)\n",
    "img0 = cv2.rectangle(img0, (5, 5), (35, 30), (100, 100, 0), 1)\n",
    "\n",
    "img1 = np.zeros((50, 50, 3), np.uint8)\n",
    "img1 = cv2.rectangle(img1, (5, 5), (35, 20), (255, 0, 0), 1)"
   ]
  },
  {
   "cell_type": "markdown",
   "metadata": {},
   "source": [
    "### PIL image と ndarray の相互転換"
   ]
  },
  {
   "cell_type": "code",
   "execution_count": 156,
   "metadata": {},
   "outputs": [],
   "source": [
    "def np2pil(img):\n",
    "    return Image.fromarray(np.uint8(img))\n",
    "\n",
    "def pil2np(img):\n",
    "    return np.asarray(img)"
   ]
  },
  {
   "cell_type": "markdown",
   "metadata": {},
   "source": [
    "### 二つの画像を同じ角度でランダムに回転"
   ]
  },
  {
   "cell_type": "code",
   "execution_count": 157,
   "metadata": {},
   "outputs": [
    {
     "name": "stdout",
     "output_type": "stream",
     "text": [
      "155\n"
     ]
    },
    {
     "data": {
      "text/plain": [
       "<matplotlib.image.AxesImage at 0x7f8e4b0004a8>"
      ]
     },
     "execution_count": 157,
     "metadata": {},
     "output_type": "execute_result"
    },
    {
     "data": {
      "image/png": "[encoded data removed]",
      "text/plain": [
       "<Figure size 432x288 with 4 Axes>"
      ]
     },
     "metadata": {
      "needs_background": "light"
     },
     "output_type": "display_data"
    }
   ],
   "source": [
    "plt.subplot(221)\n",
    "plt.imshow(img0)\n",
    "\n",
    "plt.subplot(222)\n",
    "plt.imshow(img1)\n",
    "\n",
    "ang = np.random.randint(360)\n",
    "print(ang)\n",
    "img0_ = F.rotate(np2pil(img0), ang)\n",
    "img1_ = F.rotate(np2pil(img1), ang)\n",
    "    \n",
    "plt.subplot(223)\n",
    "plt.imshow(pil2np(img0_))\n",
    "\n",
    "plt.subplot(224)\n",
    "plt.imshow(pil2np(img1_))"
   ]
  },
  {
   "cell_type": "markdown",
   "metadata": {},
   "source": [
    "### 二つの画像を同じ方向でランダムにフリップ"
   ]
  },
  {
   "cell_type": "code",
   "execution_count": 158,
   "metadata": {},
   "outputs": [
    {
     "data": {
      "image/png": "[encoded data removed]",
      "text/plain": [
       "<Figure size 432x288 with 4 Axes>"
      ]
     },
     "metadata": {
      "needs_background": "light"
     },
     "output_type": "display_data"
    }
   ],
   "source": [
    "plt.subplot(221)\n",
    "plt.imshow(img0)\n",
    "\n",
    "plt.subplot(222)\n",
    "plt.imshow(img1)\n",
    "\n",
    "if np.random.randint(2) == 0:\n",
    "    img0_ = F.hflip(np2pil(img0))\n",
    "    img1_ = F.hflip(np2pil(img1))\n",
    "    \n",
    "    plt.subplot(223)\n",
    "    plt.imshow(pil2np(img0_))\n",
    "\n",
    "    plt.subplot(224)\n",
    "    plt.imshow(pil2np(img1_))"
   ]
  },
  {
   "cell_type": "code",
   "execution_count": 159,
   "metadata": {},
   "outputs": [
    {
     "data": {
      "image/png": "[encoded data removed]",
      "text/plain": [
       "<Figure size 432x288 with 4 Axes>"
      ]
     },
     "metadata": {
      "needs_background": "light"
     },
     "output_type": "display_data"
    }
   ],
   "source": [
    "plt.subplot(221)\n",
    "plt.imshow(img0)\n",
    "\n",
    "plt.subplot(222)\n",
    "plt.imshow(img1)\n",
    "\n",
    "if np.random.randint(2) == 0:\n",
    "    img0_ = F.vflip(np2pil(img0))\n",
    "    img1_ = F.vflip(np2pil(img1))\n",
    "    \n",
    "    plt.subplot(223)\n",
    "    plt.imshow(pil2np(img0_))\n",
    "\n",
    "    plt.subplot(224)\n",
    "    plt.imshow(pil2np(img1_))"
   ]
  },
  {
   "cell_type": "code",
   "execution_count": null,
   "metadata": {},
   "outputs": [],
   "source": []
  },
  {
   "cell_type": "code",
   "execution_count": null,
   "metadata": {},
   "outputs": [],
   "source": []
  }
 ],
 "metadata": {
  "kernelspec": {
   "display_name": "=base",
   "language": "python",
   "name": "base"
  },
  "language_info": {
   "codemirror_mode": {
    "name": "ipython",
    "version": 3
   },
   "file_extension": ".py",
   "mimetype": "text/x-python",
   "name": "python",
   "nbconvert_exporter": "python",
   "pygments_lexer": "ipython3",
   "version": "3.7.3"
  }
 },
 "nbformat": 4,
 "nbformat_minor": 2
}
